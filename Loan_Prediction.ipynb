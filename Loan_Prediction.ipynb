{
  "nbformat": 4,
  "nbformat_minor": 0,
  "metadata": {
    "colab": {
      "name": "Loan Prediction ",
      "provenance": []
    },
    "kernelspec": {
      "name": "python3",
      "display_name": "Python 3"
    },
    "language_info": {
      "name": "python"
    }
  },
  "cells": [
    {
      "cell_type": "code",
      "metadata": {
        "colab": {
          "base_uri": "https://localhost:8080/",
          "height": 240
        },
        "id": "mPrqJNnFWmE-",
        "outputId": "8b9d3d44-05ea-4e33-b29b-8b844816c697"
      },
      "source": [
        "import pandas as pd\n",
        " \n",
        "train = pd.read_csv('/content/train_u6lujuX_CVtuZ9i.csv') \n",
        "train.head()"
      ],
      "execution_count": 1,
      "outputs": [
        {
          "output_type": "execute_result",
          "data": {
            "text/html": [
              "<div>\n",
              "<style scoped>\n",
              "    .dataframe tbody tr th:only-of-type {\n",
              "        vertical-align: middle;\n",
              "    }\n",
              "\n",
              "    .dataframe tbody tr th {\n",
              "        vertical-align: top;\n",
              "    }\n",
              "\n",
              "    .dataframe thead th {\n",
              "        text-align: right;\n",
              "    }\n",
              "</style>\n",
              "<table border=\"1\" class=\"dataframe\">\n",
              "  <thead>\n",
              "    <tr style=\"text-align: right;\">\n",
              "      <th></th>\n",
              "      <th>Loan_ID</th>\n",
              "      <th>Gender</th>\n",
              "      <th>Married</th>\n",
              "      <th>Dependents</th>\n",
              "      <th>Education</th>\n",
              "      <th>Self_Employed</th>\n",
              "      <th>ApplicantIncome</th>\n",
              "      <th>CoapplicantIncome</th>\n",
              "      <th>LoanAmount</th>\n",
              "      <th>Loan_Amount_Term</th>\n",
              "      <th>Credit_History</th>\n",
              "      <th>Property_Area</th>\n",
              "      <th>Loan_Status</th>\n",
              "    </tr>\n",
              "  </thead>\n",
              "  <tbody>\n",
              "    <tr>\n",
              "      <th>0</th>\n",
              "      <td>LP001002</td>\n",
              "      <td>Male</td>\n",
              "      <td>No</td>\n",
              "      <td>0</td>\n",
              "      <td>Graduate</td>\n",
              "      <td>No</td>\n",
              "      <td>5849</td>\n",
              "      <td>0.0</td>\n",
              "      <td>NaN</td>\n",
              "      <td>360.0</td>\n",
              "      <td>1.0</td>\n",
              "      <td>Urban</td>\n",
              "      <td>Y</td>\n",
              "    </tr>\n",
              "    <tr>\n",
              "      <th>1</th>\n",
              "      <td>LP001003</td>\n",
              "      <td>Male</td>\n",
              "      <td>Yes</td>\n",
              "      <td>1</td>\n",
              "      <td>Graduate</td>\n",
              "      <td>No</td>\n",
              "      <td>4583</td>\n",
              "      <td>1508.0</td>\n",
              "      <td>128.0</td>\n",
              "      <td>360.0</td>\n",
              "      <td>1.0</td>\n",
              "      <td>Rural</td>\n",
              "      <td>N</td>\n",
              "    </tr>\n",
              "    <tr>\n",
              "      <th>2</th>\n",
              "      <td>LP001005</td>\n",
              "      <td>Male</td>\n",
              "      <td>Yes</td>\n",
              "      <td>0</td>\n",
              "      <td>Graduate</td>\n",
              "      <td>Yes</td>\n",
              "      <td>3000</td>\n",
              "      <td>0.0</td>\n",
              "      <td>66.0</td>\n",
              "      <td>360.0</td>\n",
              "      <td>1.0</td>\n",
              "      <td>Urban</td>\n",
              "      <td>Y</td>\n",
              "    </tr>\n",
              "    <tr>\n",
              "      <th>3</th>\n",
              "      <td>LP001006</td>\n",
              "      <td>Male</td>\n",
              "      <td>Yes</td>\n",
              "      <td>0</td>\n",
              "      <td>Not Graduate</td>\n",
              "      <td>No</td>\n",
              "      <td>2583</td>\n",
              "      <td>2358.0</td>\n",
              "      <td>120.0</td>\n",
              "      <td>360.0</td>\n",
              "      <td>1.0</td>\n",
              "      <td>Urban</td>\n",
              "      <td>Y</td>\n",
              "    </tr>\n",
              "    <tr>\n",
              "      <th>4</th>\n",
              "      <td>LP001008</td>\n",
              "      <td>Male</td>\n",
              "      <td>No</td>\n",
              "      <td>0</td>\n",
              "      <td>Graduate</td>\n",
              "      <td>No</td>\n",
              "      <td>6000</td>\n",
              "      <td>0.0</td>\n",
              "      <td>141.0</td>\n",
              "      <td>360.0</td>\n",
              "      <td>1.0</td>\n",
              "      <td>Urban</td>\n",
              "      <td>Y</td>\n",
              "    </tr>\n",
              "  </tbody>\n",
              "</table>\n",
              "</div>"
            ],
            "text/plain": [
              "    Loan_ID Gender Married  ... Credit_History Property_Area Loan_Status\n",
              "0  LP001002   Male      No  ...            1.0         Urban           Y\n",
              "1  LP001003   Male     Yes  ...            1.0         Rural           N\n",
              "2  LP001005   Male     Yes  ...            1.0         Urban           Y\n",
              "3  LP001006   Male     Yes  ...            1.0         Urban           Y\n",
              "4  LP001008   Male      No  ...            1.0         Urban           Y\n",
              "\n",
              "[5 rows x 13 columns]"
            ]
          },
          "metadata": {},
          "execution_count": 1
        }
      ]
    },
    {
      "cell_type": "code",
      "metadata": {
        "id": "VkezWMpUO_eu"
      },
      "source": [
        "train['Gender']= train['Gender'].map({'Male':0, 'Female':1})\n",
        "train['Married']= train['Married'].map({'No':0, 'Yes':1})\n",
        "train['Loan_Status']= train['Loan_Status'].map({'N':0, 'Y':1})"
      ],
      "execution_count": 2,
      "outputs": []
    },
    {
      "cell_type": "code",
      "metadata": {
        "colab": {
          "base_uri": "https://localhost:8080/"
        },
        "id": "lSuA-S4vPFXk",
        "outputId": "54f2f574-30a1-4683-bb0c-c438db19ee6e"
      },
      "source": [
        "\n",
        "train.isnull().sum()"
      ],
      "execution_count": 3,
      "outputs": [
        {
          "output_type": "execute_result",
          "data": {
            "text/plain": [
              "Loan_ID               0\n",
              "Gender               13\n",
              "Married               3\n",
              "Dependents           15\n",
              "Education             0\n",
              "Self_Employed        32\n",
              "ApplicantIncome       0\n",
              "CoapplicantIncome     0\n",
              "LoanAmount           22\n",
              "Loan_Amount_Term     14\n",
              "Credit_History       50\n",
              "Property_Area         0\n",
              "Loan_Status           0\n",
              "dtype: int64"
            ]
          },
          "metadata": {},
          "execution_count": 3
        }
      ]
    },
    {
      "cell_type": "code",
      "metadata": {
        "colab": {
          "base_uri": "https://localhost:8080/"
        },
        "id": "CrA0dsYCPH1U",
        "outputId": "b1e76bdc-e801-4ffe-beb8-387e167e7965"
      },
      "source": [
        "train = train.dropna()\n",
        "train.isnull().sum()"
      ],
      "execution_count": 4,
      "outputs": [
        {
          "output_type": "execute_result",
          "data": {
            "text/plain": [
              "Loan_ID              0\n",
              "Gender               0\n",
              "Married              0\n",
              "Dependents           0\n",
              "Education            0\n",
              "Self_Employed        0\n",
              "ApplicantIncome      0\n",
              "CoapplicantIncome    0\n",
              "LoanAmount           0\n",
              "Loan_Amount_Term     0\n",
              "Credit_History       0\n",
              "Property_Area        0\n",
              "Loan_Status          0\n",
              "dtype: int64"
            ]
          },
          "metadata": {},
          "execution_count": 4
        }
      ]
    },
    {
      "cell_type": "code",
      "metadata": {
        "colab": {
          "base_uri": "https://localhost:8080/"
        },
        "id": "ObDabaqGPK_E",
        "outputId": "8a56de97-3737-4943-a198-56d068a113bd"
      },
      "source": [
        "X = train[['Gender', 'Married', 'ApplicantIncome', 'LoanAmount', 'Credit_History']]\n",
        "y = train.Loan_Status\n",
        "X.shape, y.shape"
      ],
      "execution_count": 5,
      "outputs": [
        {
          "output_type": "execute_result",
          "data": {
            "text/plain": [
              "((480, 5), (480,))"
            ]
          },
          "metadata": {},
          "execution_count": 5
        }
      ]
    },
    {
      "cell_type": "code",
      "metadata": {
        "id": "f1nrbwy6POHq"
      },
      "source": [
        "from sklearn.model_selection import train_test_split\n",
        "x_train, x_cv, y_train, y_cv = train_test_split(X,y, test_size = 0.2, random_state = 10)"
      ],
      "execution_count": 6,
      "outputs": []
    },
    {
      "cell_type": "code",
      "metadata": {
        "colab": {
          "base_uri": "https://localhost:8080/"
        },
        "id": "F8O4tr6oPRCJ",
        "outputId": "38e87ad0-2174-4fb0-8547-e38a7848150d"
      },
      "source": [
        "from sklearn.ensemble import RandomForestClassifier \n",
        "model = RandomForestClassifier(max_depth=4, random_state = 10) \n",
        "model.fit(x_train, y_train)"
      ],
      "execution_count": 7,
      "outputs": [
        {
          "output_type": "execute_result",
          "data": {
            "text/plain": [
              "RandomForestClassifier(bootstrap=True, ccp_alpha=0.0, class_weight=None,\n",
              "                       criterion='gini', max_depth=4, max_features='auto',\n",
              "                       max_leaf_nodes=None, max_samples=None,\n",
              "                       min_impurity_decrease=0.0, min_impurity_split=None,\n",
              "                       min_samples_leaf=1, min_samples_split=2,\n",
              "                       min_weight_fraction_leaf=0.0, n_estimators=100,\n",
              "                       n_jobs=None, oob_score=False, random_state=10, verbose=0,\n",
              "                       warm_start=False)"
            ]
          },
          "metadata": {},
          "execution_count": 7
        }
      ]
    },
    {
      "cell_type": "code",
      "metadata": {
        "colab": {
          "base_uri": "https://localhost:8080/"
        },
        "id": "u9b5lw9qPTuG",
        "outputId": "aaf4108e-5354-4720-afad-f0cb92c70786"
      },
      "source": [
        "from sklearn.metrics import accuracy_score\n",
        "pred_cv = model.predict(x_cv)\n",
        "accuracy_score(y_cv,pred_cv)"
      ],
      "execution_count": 8,
      "outputs": [
        {
          "output_type": "execute_result",
          "data": {
            "text/plain": [
              "0.8020833333333334"
            ]
          },
          "metadata": {},
          "execution_count": 8
        }
      ]
    },
    {
      "cell_type": "code",
      "metadata": {
        "colab": {
          "base_uri": "https://localhost:8080/"
        },
        "id": "MqBj2jCxPW4e",
        "outputId": "64901698-6191-4088-ebaf-c04899fa04a1"
      },
      "source": [
        "pred_train = model.predict(x_train)\n",
        "accuracy_score(y_train,pred_train)"
      ],
      "execution_count": 9,
      "outputs": [
        {
          "output_type": "execute_result",
          "data": {
            "text/plain": [
              "0.8203125"
            ]
          },
          "metadata": {},
          "execution_count": 9
        }
      ]
    },
    {
      "cell_type": "code",
      "metadata": {
        "id": "lnME4tt3PZyn"
      },
      "source": [
        "# saving the model \n",
        "import pickle \n",
        "pickle_out = open(\"classifier.pkl\", mode = \"wb\") \n",
        "pickle.dump(model, pickle_out) \n",
        "pickle_out.close()"
      ],
      "execution_count": 10,
      "outputs": []
    },
    {
      "cell_type": "code",
      "metadata": {
        "colab": {
          "base_uri": "https://localhost:8080/"
        },
        "id": "F2s85s92PccC",
        "outputId": "bcef300c-248e-4a07-df27-5f284e891877"
      },
      "source": [
        "!pip install -q pyngrok\n",
        "\n",
        "!pip install -q streamlit\n",
        "\n",
        "!pip install -q streamlit_ace"
      ],
      "execution_count": 11,
      "outputs": [
        {
          "output_type": "stream",
          "text": [
            "\u001b[?25l\r\u001b[K     |▍                               | 10 kB 17.2 MB/s eta 0:00:01\r\u001b[K     |▉                               | 20 kB 24.1 MB/s eta 0:00:01\r\u001b[K     |█▎                              | 30 kB 26.7 MB/s eta 0:00:01\r\u001b[K     |█▊                              | 40 kB 29.7 MB/s eta 0:00:01\r\u001b[K     |██▏                             | 51 kB 31.8 MB/s eta 0:00:01\r\u001b[K     |██▋                             | 61 kB 33.2 MB/s eta 0:00:01\r\u001b[K     |███                             | 71 kB 32.2 MB/s eta 0:00:01\r\u001b[K     |███▌                            | 81 kB 31.5 MB/s eta 0:00:01\r\u001b[K     |████                            | 92 kB 32.1 MB/s eta 0:00:01\r\u001b[K     |████▍                           | 102 kB 32.3 MB/s eta 0:00:01\r\u001b[K     |████▉                           | 112 kB 32.3 MB/s eta 0:00:01\r\u001b[K     |█████▎                          | 122 kB 32.3 MB/s eta 0:00:01\r\u001b[K     |█████▊                          | 133 kB 32.3 MB/s eta 0:00:01\r\u001b[K     |██████▏                         | 143 kB 32.3 MB/s eta 0:00:01\r\u001b[K     |██████▋                         | 153 kB 32.3 MB/s eta 0:00:01\r\u001b[K     |███████                         | 163 kB 32.3 MB/s eta 0:00:01\r\u001b[K     |███████▌                        | 174 kB 32.3 MB/s eta 0:00:01\r\u001b[K     |████████                        | 184 kB 32.3 MB/s eta 0:00:01\r\u001b[K     |████████▍                       | 194 kB 32.3 MB/s eta 0:00:01\r\u001b[K     |████████▊                       | 204 kB 32.3 MB/s eta 0:00:01\r\u001b[K     |█████████▏                      | 215 kB 32.3 MB/s eta 0:00:01\r\u001b[K     |█████████▋                      | 225 kB 32.3 MB/s eta 0:00:01\r\u001b[K     |██████████                      | 235 kB 32.3 MB/s eta 0:00:01\r\u001b[K     |██████████▌                     | 245 kB 32.3 MB/s eta 0:00:01\r\u001b[K     |███████████                     | 256 kB 32.3 MB/s eta 0:00:01\r\u001b[K     |███████████▍                    | 266 kB 32.3 MB/s eta 0:00:01\r\u001b[K     |███████████▉                    | 276 kB 32.3 MB/s eta 0:00:01\r\u001b[K     |████████████▎                   | 286 kB 32.3 MB/s eta 0:00:01\r\u001b[K     |████████████▊                   | 296 kB 32.3 MB/s eta 0:00:01\r\u001b[K     |█████████████▏                  | 307 kB 32.3 MB/s eta 0:00:01\r\u001b[K     |█████████████▋                  | 317 kB 32.3 MB/s eta 0:00:01\r\u001b[K     |██████████████                  | 327 kB 32.3 MB/s eta 0:00:01\r\u001b[K     |██████████████▌                 | 337 kB 32.3 MB/s eta 0:00:01\r\u001b[K     |███████████████                 | 348 kB 32.3 MB/s eta 0:00:01\r\u001b[K     |███████████████▍                | 358 kB 32.3 MB/s eta 0:00:01\r\u001b[K     |███████████████▉                | 368 kB 32.3 MB/s eta 0:00:01\r\u001b[K     |████████████████▎               | 378 kB 32.3 MB/s eta 0:00:01\r\u001b[K     |████████████████▊               | 389 kB 32.3 MB/s eta 0:00:01\r\u001b[K     |█████████████████▏              | 399 kB 32.3 MB/s eta 0:00:01\r\u001b[K     |█████████████████▌              | 409 kB 32.3 MB/s eta 0:00:01\r\u001b[K     |██████████████████              | 419 kB 32.3 MB/s eta 0:00:01\r\u001b[K     |██████████████████▍             | 430 kB 32.3 MB/s eta 0:00:01\r\u001b[K     |██████████████████▉             | 440 kB 32.3 MB/s eta 0:00:01\r\u001b[K     |███████████████████▎            | 450 kB 32.3 MB/s eta 0:00:01\r\u001b[K     |███████████████████▊            | 460 kB 32.3 MB/s eta 0:00:01\r\u001b[K     |████████████████████▏           | 471 kB 32.3 MB/s eta 0:00:01\r\u001b[K     |████████████████████▋           | 481 kB 32.3 MB/s eta 0:00:01\r\u001b[K     |█████████████████████           | 491 kB 32.3 MB/s eta 0:00:01\r\u001b[K     |█████████████████████▌          | 501 kB 32.3 MB/s eta 0:00:01\r\u001b[K     |██████████████████████          | 512 kB 32.3 MB/s eta 0:00:01\r\u001b[K     |██████████████████████▍         | 522 kB 32.3 MB/s eta 0:00:01\r\u001b[K     |██████████████████████▉         | 532 kB 32.3 MB/s eta 0:00:01\r\u001b[K     |███████████████████████▎        | 542 kB 32.3 MB/s eta 0:00:01\r\u001b[K     |███████████████████████▊        | 552 kB 32.3 MB/s eta 0:00:01\r\u001b[K     |████████████████████████▏       | 563 kB 32.3 MB/s eta 0:00:01\r\u001b[K     |████████████████████████▋       | 573 kB 32.3 MB/s eta 0:00:01\r\u001b[K     |█████████████████████████       | 583 kB 32.3 MB/s eta 0:00:01\r\u001b[K     |█████████████████████████▌      | 593 kB 32.3 MB/s eta 0:00:01\r\u001b[K     |██████████████████████████      | 604 kB 32.3 MB/s eta 0:00:01\r\u001b[K     |██████████████████████████▎     | 614 kB 32.3 MB/s eta 0:00:01\r\u001b[K     |██████████████████████████▊     | 624 kB 32.3 MB/s eta 0:00:01\r\u001b[K     |███████████████████████████▏    | 634 kB 32.3 MB/s eta 0:00:01\r\u001b[K     |███████████████████████████▋    | 645 kB 32.3 MB/s eta 0:00:01\r\u001b[K     |████████████████████████████    | 655 kB 32.3 MB/s eta 0:00:01\r\u001b[K     |████████████████████████████▌   | 665 kB 32.3 MB/s eta 0:00:01\r\u001b[K     |█████████████████████████████   | 675 kB 32.3 MB/s eta 0:00:01\r\u001b[K     |█████████████████████████████▍  | 686 kB 32.3 MB/s eta 0:00:01\r\u001b[K     |█████████████████████████████▉  | 696 kB 32.3 MB/s eta 0:00:01\r\u001b[K     |██████████████████████████████▎ | 706 kB 32.3 MB/s eta 0:00:01\r\u001b[K     |██████████████████████████████▊ | 716 kB 32.3 MB/s eta 0:00:01\r\u001b[K     |███████████████████████████████▏| 727 kB 32.3 MB/s eta 0:00:01\r\u001b[K     |███████████████████████████████▋| 737 kB 32.3 MB/s eta 0:00:01\r\u001b[K     |████████████████████████████████| 746 kB 32.3 MB/s \n",
            "\u001b[?25h  Building wheel for pyngrok (setup.py) ... \u001b[?25l\u001b[?25hdone\n",
            "\u001b[K     |████████████████████████████████| 8.0 MB 38.2 MB/s \n",
            "\u001b[K     |████████████████████████████████| 170 kB 35.2 MB/s \n",
            "\u001b[K     |████████████████████████████████| 111 kB 49.8 MB/s \n",
            "\u001b[K     |████████████████████████████████| 4.2 MB 35.1 MB/s \n",
            "\u001b[K     |████████████████████████████████| 75 kB 4.0 MB/s \n",
            "\u001b[K     |████████████████████████████████| 63 kB 1.7 MB/s \n",
            "\u001b[K     |████████████████████████████████| 122 kB 54.5 MB/s \n",
            "\u001b[K     |████████████████████████████████| 786 kB 56.0 MB/s \n",
            "\u001b[K     |████████████████████████████████| 368 kB 51.1 MB/s \n",
            "\u001b[?25h  Building wheel for blinker (setup.py) ... \u001b[?25l\u001b[?25hdone\n",
            "\u001b[31mERROR: pip's dependency resolver does not currently take into account all the packages that are installed. This behaviour is the source of the following dependency conflicts.\n",
            "jupyter-console 5.2.0 requires prompt-toolkit<2.0.0,>=1.0.0, but you have prompt-toolkit 3.0.19 which is incompatible.\n",
            "google-colab 1.0.0 requires ipykernel~=4.10, but you have ipykernel 6.2.0 which is incompatible.\n",
            "google-colab 1.0.0 requires ipython~=5.5.0, but you have ipython 7.26.0 which is incompatible.\u001b[0m\n",
            "\u001b[K     |████████████████████████████████| 2.6 MB 25.9 MB/s \n",
            "\u001b[?25h"
          ],
          "name": "stdout"
        }
      ]
    },
    {
      "cell_type": "code",
      "metadata": {
        "colab": {
          "base_uri": "https://localhost:8080/"
        },
        "id": "5xzaKizVPjdB",
        "outputId": "a48941ab-8674-467e-9b20-139b244164f7"
      },
      "source": [
        "%%writefile app.py\n",
        " \n",
        "import pickle\n",
        "import streamlit as st\n",
        " \n",
        "# loading the trained model\n",
        "pickle_in = open('classifier.pkl', 'rb') \n",
        "classifier = pickle.load(pickle_in)\n",
        " \n",
        "@st.cache()\n",
        "  \n",
        "# defining the function which will make the prediction using the data which the user inputs \n",
        "def prediction(Gender, Married, ApplicantIncome, LoanAmount, Credit_History):   \n",
        " \n",
        "    # Pre-processing user input    \n",
        "    if Gender == \"Male\":\n",
        "        Gender = 0\n",
        "    else:\n",
        "        Gender = 1\n",
        "        if Married == \"Unmarried\":\n",
        "        Married = 0\n",
        "    else:\n",
        "        Married = 1\n",
        " \n",
        "    if Credit_History == \"Unclear Debts\":\n",
        "        Credit_History = 0\n",
        "    else:\n",
        "        Credit_History = 1  \n",
        " \n",
        "    LoanAmount = LoanAmount / 1000\n",
        " \n",
        "    # Making predictions \n",
        "    prediction = classifier.predict( \n",
        "        [[Gender, Married, ApplicantIncome, LoanAmount, Credit_History]])\n",
        "     \n",
        "    if prediction == 0:\n",
        "        pred = 'Rejected'\n",
        "    else:\n",
        "        pred = 'Approved'\n",
        "    return pred\n",
        "      \n",
        "  \n",
        "# this is the main function in which we define our webpage  \n",
        "def main():       \n",
        "    # front end elements of the web page \n",
        "    html_temp = \"\"\" \n",
        "    <div style =\"background-color:yellow;padding:13px\"> \n",
        "    <h1 style =\"color:black;text-align:center;\">Streamlit Loan Prediction ML App</h1> \n",
        "    </div> \n",
        "    \"\"\"\n",
        "      \n",
        "    # display the front end aspect\n",
        "    st.markdown(html_temp, unsafe_allow_html = True) \n",
        "      \n",
        "    # following lines create boxes in which user can enter data required to make prediction \n",
        "    Gender = st.selectbox('Gender',(\"Male\",\"Female\"))\n",
        "    Married = st.selectbox('Marital Status',(\"Unmarried\",\"Married\")) \n",
        "    ApplicantIncome = st.number_input(\"Applicants monthly income\") \n",
        "    LoanAmount = st.number_input(\"Total loan amount\")\n",
        "    Credit_History = st.selectbox('Credit_History',(\"Unclear Debts\",\"No Unclear Debts\"))\n",
        "    result =\"\"\n",
        "      \n",
        "    # when 'Predict' is clicked, make the prediction and store it \n",
        "    if st.button(\"Predict\"): \n",
        "        result = prediction(Gender, Married, ApplicantIncome, LoanAmount, Credit_History) \n",
        "        st.success('Your loan is {}'.format(result))\n",
        "        print(LoanAmount)\n",
        "     \n",
        "if __name__=='__main__': \n",
        "    main()"
      ],
      "execution_count": 12,
      "outputs": [
        {
          "output_type": "stream",
          "text": [
            "Writing app.py\n"
          ],
          "name": "stdout"
        }
      ]
    },
    {
      "cell_type": "code",
      "metadata": {
        "id": "krH5FYMePzGx"
      },
      "source": [
        "!streamlit run app.py &>/dev/null&"
      ],
      "execution_count": 13,
      "outputs": []
    },
    {
      "cell_type": "code",
      "metadata": {
        "colab": {
          "base_uri": "https://localhost:8080/"
        },
        "id": "vzgBozX4P5ZU",
        "outputId": "b88ff4b4-ac40-44a6-d516-9b55e97421ca"
      },
      "source": [
        "from pyngrok import ngrok\n",
        " \n",
        "public_url = ngrok.connect('8501')\n",
        "public_url"
      ],
      "execution_count": 14,
      "outputs": [
        {
          "output_type": "stream",
          "text": [
            ""
          ],
          "name": "stdout"
        },
        {
          "output_type": "execute_result",
          "data": {
            "text/plain": [
              "<NgrokTunnel: \"http://bf9493a04e81.ngrok.io\" -> \"http://localhost:8501\">"
            ]
          },
          "metadata": {},
          "execution_count": 14
        }
      ]
    },
    {
      "cell_type": "code",
      "metadata": {
        "id": "_MiP3xIEP8Su"
      },
      "source": [
        ""
      ],
      "execution_count": null,
      "outputs": []
    }
  ]
}